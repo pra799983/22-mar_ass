{
 "cells": [
  {
   "cell_type": "code",
   "execution_count": null,
   "id": "8531b880-a004-4f98-867a-4e74272d8685",
   "metadata": {},
   "outputs": [],
   "source": [
    "Q1. Pearson correlation coefficient is a measure of the linear relationship between two variables. Suppose\n",
    "you have collected data on the amount of time students spend studying for an exam and their final exam\n",
    "scores. Calculate the Pearson correlation coefficient between these two variables and interpret the result."
   ]
  },
  {
   "cell_type": "code",
   "execution_count": 4,
   "id": "87f3f941-092c-456a-8461-1e6604d19cfe",
   "metadata": {},
   "outputs": [
    {
     "data": {
      "text/html": [
       "<div>\n",
       "<style scoped>\n",
       "    .dataframe tbody tr th:only-of-type {\n",
       "        vertical-align: middle;\n",
       "    }\n",
       "\n",
       "    .dataframe tbody tr th {\n",
       "        vertical-align: top;\n",
       "    }\n",
       "\n",
       "    .dataframe thead th {\n",
       "        text-align: right;\n",
       "    }\n",
       "</style>\n",
       "<table border=\"1\" class=\"dataframe\">\n",
       "  <thead>\n",
       "    <tr style=\"text-align: right;\">\n",
       "      <th></th>\n",
       "      <th>study_time</th>\n",
       "      <th>final_result</th>\n",
       "    </tr>\n",
       "  </thead>\n",
       "  <tbody>\n",
       "    <tr>\n",
       "      <th>study_time</th>\n",
       "      <td>1.00000</td>\n",
       "      <td>0.97339</td>\n",
       "    </tr>\n",
       "    <tr>\n",
       "      <th>final_result</th>\n",
       "      <td>0.97339</td>\n",
       "      <td>1.00000</td>\n",
       "    </tr>\n",
       "  </tbody>\n",
       "</table>\n",
       "</div>"
      ],
      "text/plain": [
       "              study_time  final_result\n",
       "study_time       1.00000       0.97339\n",
       "final_result     0.97339       1.00000"
      ]
     },
     "execution_count": 4,
     "metadata": {},
     "output_type": "execute_result"
    }
   ],
   "source": [
    "import pandas as pd\n",
    "df = pd.DataFrame({'study_time':[7,8,9,6,4,5,8],\n",
    "                    'final_result':[80,85,88,65,55,58,80] })\n",
    "df.corr(method = 'pearson')"
   ]
  },
  {
   "cell_type": "code",
   "execution_count": null,
   "id": "93c061a3-88b6-4e65-99e8-913b997b4008",
   "metadata": {},
   "outputs": [],
   "source": [
    "Q2. Spearman's rank correlation is a measure of the monotonic relationship between two variables.\n",
    "Suppose you have collected data on the amount of sleep individuals get each night and their overall job\n",
    "satisfaction level on a scale of 1 to 10. Calculate the Spearman's rank correlation between these two\n",
    "variables and interpret the result."
   ]
  },
  {
   "cell_type": "code",
   "execution_count": 6,
   "id": "295e8c4e-ae5d-4487-a5ea-d64390ccd1bb",
   "metadata": {},
   "outputs": [
    {
     "data": {
      "text/html": [
       "<div>\n",
       "<style scoped>\n",
       "    .dataframe tbody tr th:only-of-type {\n",
       "        vertical-align: middle;\n",
       "    }\n",
       "\n",
       "    .dataframe tbody tr th {\n",
       "        vertical-align: top;\n",
       "    }\n",
       "\n",
       "    .dataframe thead th {\n",
       "        text-align: right;\n",
       "    }\n",
       "</style>\n",
       "<table border=\"1\" class=\"dataframe\">\n",
       "  <thead>\n",
       "    <tr style=\"text-align: right;\">\n",
       "      <th></th>\n",
       "      <th>sleep_time_hours</th>\n",
       "      <th>job_satisfaction_level</th>\n",
       "    </tr>\n",
       "  </thead>\n",
       "  <tbody>\n",
       "    <tr>\n",
       "      <th>sleep_time_hours</th>\n",
       "      <td>1.000000</td>\n",
       "      <td>0.990867</td>\n",
       "    </tr>\n",
       "    <tr>\n",
       "      <th>job_satisfaction_level</th>\n",
       "      <td>0.990867</td>\n",
       "      <td>1.000000</td>\n",
       "    </tr>\n",
       "  </tbody>\n",
       "</table>\n",
       "</div>"
      ],
      "text/plain": [
       "                        sleep_time_hours  job_satisfaction_level\n",
       "sleep_time_hours                1.000000                0.990867\n",
       "job_satisfaction_level          0.990867                1.000000"
      ]
     },
     "execution_count": 6,
     "metadata": {},
     "output_type": "execute_result"
    }
   ],
   "source": [
    "import pandas as pd\n",
    "df = pd.DataFrame({'sleep_time_hours':[7,8,9,6,4,5,8],\n",
    "                    'job_satisfaction_level':[8,9,10,6,5,5,9] })\n",
    "df.corr(method = 'spearman')"
   ]
  },
  {
   "cell_type": "code",
   "execution_count": 12,
   "id": "2f2d6302-c176-4302-ae00-031b886e05b0",
   "metadata": {},
   "outputs": [
    {
     "name": "stdout",
     "output_type": "stream",
     "text": [
      "Spearman's rank correlation is : 0.9908673886137247\n",
      "p-vale is : 1.5233973437493786e-05\n"
     ]
    }
   ],
   "source": [
    "## 2nd way of writing code\n",
    "import numpy as np\n",
    "from scipy.stats import spearmanr\n",
    "\n",
    "sleep_time_hours=[7,8,9,6,4,5,8]\n",
    "job_satisfaction_level= [8,9,10,6,5,5,9]\n",
    "correlation,pvalue = spearmanr(sleep_time_hours,job_satisfaction_level)\n",
    "print(\"Spearman's rank correlation is :\",correlation)\n",
    "print('p-vale is :', pvalue)"
   ]
  },
  {
   "cell_type": "code",
   "execution_count": null,
   "id": "056cfe39-993d-42da-b1c3-384dbe5faa17",
   "metadata": {},
   "outputs": [],
   "source": [
    "Q3. Suppose you are conducting a study to examine the relationship between the number of hours of\n",
    "exercise per week and body mass index (BMI) in a sample of adults. You collected data on both variables\n",
    "for 50 participants. Calculate the Pearson correlation coefficient and the Spearman's rank correlation\n",
    "between these two variables and compare the results."
   ]
  },
  {
   "cell_type": "code",
   "execution_count": 15,
   "id": "4138ff3f-e118-4df5-9059-8ef44a0954fa",
   "metadata": {},
   "outputs": [
    {
     "name": "stdout",
     "output_type": "stream",
     "text": [
      "Pearson correlation coefficient: 0.9325542839739749\n",
      "Pearson p-value: 7.082011147459667e-23\n",
      "\n",
      "Spearman's rank correlation coefficient: 0.9180294856525735\n",
      "Spearman p-value: 6.470016401641406e-21\n"
     ]
    }
   ],
   "source": [
    "import numpy as np\n",
    "from scipy.stats import pearsonr, spearmanr\n",
    "\n",
    "exercise_hours = [4, 3, 5, 2, 3, 5, 6, 4, 2, 3, 1, 2, 5, 4, 3, 2, 5, 6, 3, 4,\n",
    "                  2, 1, 3, 4, 5, 6, 3, 2, 4, 5, 6, 4, 3, 2, 5, 3, 4, 2, 6, 5,\n",
    "                  4, 3, 2, 1, 5, 4, 6, 3, 2, 4]\n",
    "BMI = [25.5, 26.8, 28.3, 24.7, 27.2, 29.1, 30.2, 26.3, 25.1, 26.5, 23.9, 25.4,\n",
    "       28.7, 26.6, 25.8, 24.2, 29.8, 30.5, 27.3, 25.6, 23.8, 23.1, 26.7, 28.5,\n",
    "       29.6, 30.1, 26.4, 24.9, 27.7, 29.3, 30.6, 26.2, 25.7, 24.8, 29.2, 27.5,\n",
    "       28.6, 24.5, 30.4, 29.7, 27.1, 26.1, 24.4, 23.3, 28.1, 26.9, 30.3, 27.4,\n",
    "       24.6, 28.9]\n",
    "\n",
    "pearson_corr, pearson_p_value = pearsonr(exercise_hours, BMI)\n",
    "\n",
    "spearman_corr, spearman_p_value = spearmanr(exercise_hours, BMI)\n",
    "\n",
    "print(\"Pearson correlation coefficient:\", pearson_corr)\n",
    "print(\"Pearson p-value:\", pearson_p_value)\n",
    "print()\n",
    "print(\"Spearman's rank correlation coefficient:\", spearman_corr)\n",
    "print(\"Spearman p-value:\", spearman_p_value)\n"
   ]
  },
  {
   "cell_type": "code",
   "execution_count": null,
   "id": "9ec38df8-01ea-4ed5-89f7-a745d9cdffe0",
   "metadata": {},
   "outputs": [],
   "source": [
    "After seeing the result of correlation coefficient , Pearson is better then spearman corrleation coefficient method."
   ]
  },
  {
   "cell_type": "code",
   "execution_count": null,
   "id": "835e7e95-130c-4a3c-b1b4-4d8b6ce7d245",
   "metadata": {},
   "outputs": [],
   "source": [
    "Q4. A researcher is interested in examining the relationship between the number of hours individuals\n",
    "spend watching television per day and their level of physical activity. The researcher collected data on\n",
    "both variables from a sample of 50 participants. Calculate the Pearson correlation coefficient between\n",
    "these two variables."
   ]
  },
  {
   "cell_type": "code",
   "execution_count": 19,
   "id": "63e78fa9-ac34-4a90-9a35-d5d3aba38ca4",
   "metadata": {},
   "outputs": [
    {
     "name": "stdout",
     "output_type": "stream",
     "text": [
      "Pearson correlation coefficient: 0.3263866604950114\n",
      "Pearson p-value: 0.02070740115482858\n"
     ]
    }
   ],
   "source": [
    "import numpy as np\n",
    "from scipy.stats import pearsonr, spearmanr\n",
    "\n",
    "watching_television_hours = [4, 3, 5, 2, 3, 5, 6, 4, 2, 3, 1, 2, 5, 4, 3, 2, 5, 6, 3, 4,\n",
    "                  2, 1, 3, 4, 5, 6, 3, 2, 4, 5, 6, 4, 3, 2, 5, 3, 4, 2, 6, 5,\n",
    "                  4, 3, 2, 1, 5, 4, 6, 3, 2, 4]\n",
    "level_of_physical_activity = [5,6,4,2,3,8,7,5,6,4,2,4,6,5,4,3,7,8,4,5,6,5,4,4,5,\n",
    "                              6,3,2,8,6,5,4,7,4,7,5,7,6,5,4,4,4,5,7,2,3,4,5,4,6]\n",
    "\n",
    "pearson_corr, pearson_p_value = pearsonr(watching_television_hours,level_of_physical_activity)\n",
    "\n",
    "print(\"Pearson correlation coefficient:\", pearson_corr)\n",
    "print(\"Pearson p-value:\", pearson_p_value)"
   ]
  },
  {
   "cell_type": "code",
   "execution_count": null,
   "id": "8872b492-0df4-4014-a992-4bff4f3aa2b1",
   "metadata": {},
   "outputs": [],
   "source": [
    "Q6. A company is interested in examining the relationship between the number of sales calls made per day\n",
    "and the number of sales made per week. The company collected data on both variables from a sample of\n",
    "30 sales representatives. Calculate the Pearson correlation coefficient between these two variables."
   ]
  },
  {
   "cell_type": "code",
   "execution_count": 21,
   "id": "358165ee-1ab8-48d8-9597-443da60e5363",
   "metadata": {},
   "outputs": [
    {
     "name": "stdout",
     "output_type": "stream",
     "text": [
      "Pearson correlation coefficient: 0.959747996037114\n"
     ]
    }
   ],
   "source": [
    "import numpy as np\n",
    "\n",
    "sales_calls_per_day = [10, 8, 12, 6, 9, 7, 11, 10, 8, 6, 9, 7, 11, 10, 8, 6, 9, 7, 11, 10,\n",
    "                       8, 6, 9, 7, 11, 10, 8, 6, 9, 7]\n",
    "sales_per_week = [5, 4, 6, 3, 4, 3, 5, 5, 4, 3, 4, 3, 5, 5, 4, 3, 4, 3, 5, 5,\n",
    "                  4, 3, 4, 3, 5, 5, 4, 3, 4, 3]\n",
    "correlation_coefficient = np.corrcoef(sales_calls_per_day, sales_per_week)[0, 1]\n",
    "\n",
    "print(\"Pearson correlation coefficient:\", correlation_coefficient)\n"
   ]
  },
  {
   "cell_type": "code",
   "execution_count": null,
   "id": "1e8229d9-87f9-4781-9c3e-3a4e5a013be7",
   "metadata": {},
   "outputs": [],
   "source": []
  }
 ],
 "metadata": {
  "kernelspec": {
   "display_name": "Python 3 (ipykernel)",
   "language": "python",
   "name": "python3"
  },
  "language_info": {
   "codemirror_mode": {
    "name": "ipython",
    "version": 3
   },
   "file_extension": ".py",
   "mimetype": "text/x-python",
   "name": "python",
   "nbconvert_exporter": "python",
   "pygments_lexer": "ipython3",
   "version": "3.10.8"
  }
 },
 "nbformat": 4,
 "nbformat_minor": 5
}
